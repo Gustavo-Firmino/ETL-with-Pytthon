{
 "cells": [
  {
   "cell_type": "code",
   "execution_count": 3,
   "metadata": {},
   "outputs": [
    {
     "name": "stdout",
     "output_type": "stream",
     "text": [
      "[4631, 4632, 4634, 4636, 4637]\n",
      "User: Gussa updated True\n",
      "User: Gussb updated True\n",
      "User: Gussc updated True\n",
      "User: Gussd updated True\n",
      "User: Gusse updated True\n"
     ]
    }
   ],
   "source": [
    "import requests\n",
    "sdw2023_url = 'https://sdw-2023-prd.up.railway.app/users/'\n",
    "\n",
    "import pandas as pd #importacao do pandas, para realizar a leitura do CSV\n",
    "df = pd.read_csv('swd2023.csv')\n",
    "user_id = df['UserId'].tolist()\n",
    "print(user_id)\n",
    "def get_user(id):\n",
    "    #response = requests.get(f'{sdw2023_url}/users/{id}')#passando a ur\n",
    "    response = requests.get(f'{sdw2023_url}{id}')#passando a ur\n",
    "    return response.json() if response.status_code == 200 else None\n",
    "\n",
    "users = [user for id in user_id if(user := get_user(id)) is not None]\n",
    "\n",
    "\n",
    "def update_user(user):\n",
    "    response = requests.put(f\"{sdw2023_url}{user['id']}\",json=user)#requisicao #json = user = formatcao\n",
    "    return True if response.status_code == 200 else False\n",
    "for user in users:\n",
    "    success = update_user(user)\n",
    "    print(f\"User: {user['name']} updated {success}\")"
   ]
  }
 ],
 "metadata": {
  "kernelspec": {
   "display_name": "Python 3",
   "language": "python",
   "name": "python3"
  },
  "language_info": {
   "codemirror_mode": {
    "name": "ipython",
    "version": 3
   },
   "file_extension": ".py",
   "mimetype": "text/x-python",
   "name": "python",
   "nbconvert_exporter": "python",
   "pygments_lexer": "ipython3",
   "version": "3.10.12"
  }
 },
 "nbformat": 4,
 "nbformat_minor": 2
}
